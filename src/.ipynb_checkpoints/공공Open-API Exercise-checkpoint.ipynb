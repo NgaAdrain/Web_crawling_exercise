{
 "cells": [
  {
   "cell_type": "code",
   "execution_count": null,
   "id": "11223c67",
   "metadata": {},
   "outputs": [],
   "source": [
    "import requests\n",
    "\n",
    "open_api = 'http://apis.data.go.kr/B552584/ArpltnInforInqireSvc/getCtprvnRltmMesureDnsty'\n",
    "serviceKey = '?serviceKey=HhlR2lcOKxNkucWEg9%2BUb1nAGjv2PUeLDLHZCWpzQRo9m%2FhI5Aau2BsJurWv%2B%2F6b1CpR5ML9NXbG%2FeRRLxHq8w%3D%3D'\n",
    "returnType = '&returnType=json'\n",
    "numOfRows = '&numOfRows=100'\n",
    "sidoName = '&sidoName=서울'\n",
    "res = requests.get(open_api+serviceKey+returnType+numOfRows+sidoName)\n",
    "\n",
    "#print(res.text)\n",
    "\n",
    "if res.status_code == 200:\n",
    "    data = res.json()\n",
    "    print(data['response']['body']['items'])\n",
    "    # for index, item in enumerate(data['items']):\n",
    "    #     print (index, item)\n",
    "else:\n",
    "    print(\"Error Code:\", res.status_code)\n",
    "\n",
    "\n"
   ]
  }
 ],
 "metadata": {
  "kernelspec": {
   "display_name": "Python 3",
   "language": "python",
   "name": "python3"
  },
  "language_info": {
   "codemirror_mode": {
    "name": "ipython",
    "version": 3
   },
   "file_extension": ".py",
   "mimetype": "text/x-python",
   "name": "python",
   "nbconvert_exporter": "python",
   "pygments_lexer": "ipython3",
   "version": "3.8.9"
  }
 },
 "nbformat": 4,
 "nbformat_minor": 5
}
